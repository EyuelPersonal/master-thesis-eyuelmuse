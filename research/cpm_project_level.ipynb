{
 "cells": [
  {
   "cell_type": "code",
   "execution_count": 1,
   "id": "74db345c",
   "metadata": {},
   "outputs": [],
   "source": [
    "import os\n",
    "import sys\n",
    "sys.path.append(os.path.abspath(os.path.join('..')))\n",
    "from utils import *"
   ]
  },
  {
   "cell_type": "code",
   "execution_count": 2,
   "id": "953e6225",
   "metadata": {},
   "outputs": [],
   "source": [
    "import matplotlib.pyplot as plt\n",
    "import pandas as pd\n",
    "import numpy as np\n",
    "import warnings\n",
    "import dal\n",
    "warnings.filterwarnings(\"ignore\")\n",
    "\n",
    "snow_runner = dal.SnowflakeRunner()"
   ]
  },
  {
   "cell_type": "code",
   "execution_count": 3,
   "id": "956f96a6",
   "metadata": {},
   "outputs": [],
   "source": [
    "conversations_public = snow_runner.get_data_raw('queries/conversations_public.sql')\n",
    "df = pd.DataFrame(conversations_public)"
   ]
  },
  {
   "cell_type": "code",
   "execution_count": 4,
   "id": "e72da509",
   "metadata": {},
   "outputs": [],
   "source": [
    "project_users = snow_runner.get_data_raw('queries/project_to_staff.sql')\n",
    "df_project_users = pd.DataFrame(project_users)"
   ]
  },
  {
   "cell_type": "code",
   "execution_count": 5,
   "id": "48738b48",
   "metadata": {},
   "outputs": [],
   "source": [
    "dict_cursor_roles = snow_runner.get_data_raw('queries/user_roles.sql')"
   ]
  },
  {
   "cell_type": "code",
   "execution_count": 6,
   "id": "0a72b319",
   "metadata": {},
   "outputs": [],
   "source": [
    "projects = list(set(df.PROJECT_ID))\n",
    "list_net = []\n",
    "for project in  projects:\n",
    "    user_list = list(set(df[df.PROJECT_ID == project].USER_ID))\n",
    "    data = list(filter(lambda x: x['PROJECT_ID'] == project, conversations_public))\n",
    "    roles = list(filter(lambda x: x['USER_ID'] in user_list, dict_cursor_roles))\n",
    "    list_net.append({'project_id':project, 'network': build_network(data, roles)})"
   ]
  },
  {
   "cell_type": "code",
   "execution_count": 7,
   "id": "27fcf31e",
   "metadata": {},
   "outputs": [],
   "source": [
    "project_centrality = []\n",
    "for project in projects:\n",
    "    network = [i for i in filter(lambda x: x['project_id'] == project, list_net)][0]['network']\n",
    "    centrality_dict = nx.eigenvector_centrality(network, weight='weight', max_iter=1000)\n",
    "    centrality_list = [{key:value} for key, value in centrality_dict.items()]\n",
    "    for i in centrality_list:\n",
    "        for user, centrality_ in i.items():\n",
    "            \n",
    "            project_centrality.append({'project_id': project, 'user_id': user, 'centrality': centrality_})"
   ]
  },
  {
   "cell_type": "code",
   "execution_count": 8,
   "id": "6473bd49",
   "metadata": {},
   "outputs": [],
   "source": [
    "df_user_centrality = pd.DataFrame(project_centrality)\n",
    "df_project_users_filtered = df_project_users[df_project_users.PROJECT_ID.isin(projects)]"
   ]
  },
  {
   "cell_type": "code",
   "execution_count": 9,
   "id": "0306fbbc",
   "metadata": {},
   "outputs": [],
   "source": [
    "df_centrality = df_project_users_filtered.merge(df_user_centrality, right_on=['project_id', 'user_id'], left_on=['PROJECT_ID', 'USER_ID'], how = 'left')\n",
    "df_centrality= df_centrality[pd.notnull(df_centrality.project_id)]\n",
    "df_centrality = df_centrality[['PROJECT_ID', 'USER_ID', 'centrality','MAPPING_TYPE']].fillna(0)\n",
    "df_centrality_cpms = df_centrality[df_centrality.MAPPING_TYPE == 'CPM']"
   ]
  },
  {
   "cell_type": "code",
   "execution_count": 10,
   "id": "9502f22a",
   "metadata": {},
   "outputs": [],
   "source": [
    "project_on_time = snow_runner.get_data_raw('queries/project_on_time.sql')\n",
    "df_project_on_time = pd.DataFrame(project_on_time)"
   ]
  },
  {
   "cell_type": "code",
   "execution_count": 11,
   "id": "0955e06b",
   "metadata": {},
   "outputs": [],
   "source": [
    "df_cpms_full = df_centrality_cpms.merge(df_project_on_time, how = 'left', right_on='PROJECT_ID', left_on='PROJECT_ID')\n",
    "df_cpms_full_filtered = df_cpms_full[pd.notnull(df_cpms_full.IS_ONTIME)]"
   ]
  },
  {
   "cell_type": "code",
   "execution_count": 12,
   "id": "a7c0d035",
   "metadata": {},
   "outputs": [],
   "source": [
    "df_nusers = pd.DataFrame(df_project_users.groupby('PROJECT_ID').USER_ID.nunique())\n",
    "df_nusers.columns = ['n_users']"
   ]
  },
  {
   "cell_type": "code",
   "execution_count": 13,
   "id": "1dd7bef2",
   "metadata": {},
   "outputs": [],
   "source": [
    "df_cpms_full_filtered= df_cpms_full_filtered.merge(df_nusers, how = 'left', left_on = 'PROJECT_ID', right_index=True)"
   ]
  },
  {
   "cell_type": "code",
   "execution_count": 14,
   "id": "5de4334d",
   "metadata": {},
   "outputs": [
    {
     "data": {
      "text/plain": [
       "0.5850118264518696"
      ]
     },
     "execution_count": 14,
     "metadata": {},
     "output_type": "execute_result"
    }
   ],
   "source": [
    "df_cpms_full_filtered[df_cpms_full_filtered.IS_ONTIME == True].centrality.mean()"
   ]
  },
  {
   "cell_type": "code",
   "execution_count": 15,
   "id": "81e7a8a4",
   "metadata": {},
   "outputs": [
    {
     "data": {
      "text/plain": [
       "0.517882842257952"
      ]
     },
     "execution_count": 15,
     "metadata": {},
     "output_type": "execute_result"
    }
   ],
   "source": [
    "df_cpms_full_filtered[df_cpms_full_filtered.IS_ONTIME == False].centrality.mean()"
   ]
  },
  {
   "cell_type": "code",
   "execution_count": 16,
   "id": "8c973533",
   "metadata": {},
   "outputs": [
    {
     "data": {
      "text/plain": [
       "n_users\n",
       "1        2\n",
       "2       69\n",
       "3      168\n",
       "4      543\n",
       "5     1088\n",
       "6      758\n",
       "7      322\n",
       "8      151\n",
       "9       68\n",
       "10      51\n",
       "11      32\n",
       "12       5\n",
       "13       3\n",
       "15       1\n",
       "Name: PROJECT_ID, dtype: int64"
      ]
     },
     "execution_count": 16,
     "metadata": {},
     "output_type": "execute_result"
    }
   ],
   "source": [
    "df_cpms_full_filtered.groupby('n_users').PROJECT_ID.nunique()"
   ]
  },
  {
   "cell_type": "code",
   "execution_count": 17,
   "id": "1856dce1",
   "metadata": {},
   "outputs": [],
   "source": [
    "df_cpms_full_filtered = df_cpms_full_filtered[(df_cpms_full_filtered.n_users > 3) & (df_cpms_full_filtered.n_users < 8)]"
   ]
  },
  {
   "cell_type": "code",
   "execution_count": 18,
   "id": "29e17b80",
   "metadata": {},
   "outputs": [],
   "source": [
    "df_cpms_full_filtered.drop_duplicates(subset='PROJECT_ID', keep = 'first',inplace = True)"
   ]
  },
  {
   "cell_type": "code",
   "execution_count": 19,
   "id": "7f92dd5d",
   "metadata": {},
   "outputs": [],
   "source": [
    "not_on_time = df_cpms_full_filtered[df_cpms_full_filtered.IS_ONTIME == False].centrality\n",
    "on_time = df_cpms_full_filtered[df_cpms_full_filtered.IS_ONTIME == True].centrality"
   ]
  },
  {
   "cell_type": "code",
   "execution_count": 20,
   "id": "3a1843a0",
   "metadata": {},
   "outputs": [
    {
     "data": {
      "text/plain": [
       "{'whiskers': [<matplotlib.lines.Line2D at 0x17644b850>,\n",
       "  <matplotlib.lines.Line2D at 0x17644b190>],\n",
       " 'caps': [<matplotlib.lines.Line2D at 0x17644bfd0>,\n",
       "  <matplotlib.lines.Line2D at 0x1769bc2e0>],\n",
       " 'boxes': [<matplotlib.lines.Line2D at 0x176aefa90>],\n",
       " 'medians': [<matplotlib.lines.Line2D at 0x1769bc160>],\n",
       " 'fliers': [<matplotlib.lines.Line2D at 0x1769bc5b0>],\n",
       " 'means': []}"
      ]
     },
     "execution_count": 20,
     "metadata": {},
     "output_type": "execute_result"
    },
    {
     "data": {
      "image/png": "[encoded data removed]",
      "text/plain": [
       "<Figure size 1500x1000 with 2 Axes>"
      ]
     },
     "metadata": {},
     "output_type": "display_data"
    }
   ],
   "source": [
    "fig, axes = plt.subplots(nrows=1, ncols=2, figsize=(15, 10))\n",
    "axes[0].set_title('NOT ON TIME')\n",
    "axes[0].boxplot(not_on_time)\n",
    "axes[1].set_title('ON TIME')\n",
    "axes[1].boxplot(on_time)"
   ]
  },
  {
   "cell_type": "code",
   "execution_count": 21,
   "id": "1418dc72",
   "metadata": {},
   "outputs": [],
   "source": [
    "n1 = len(df_cpms_full_filtered[df_cpms_full_filtered.IS_ONTIME == True])\n",
    "n2 = len(df_cpms_full_filtered[(df_cpms_full_filtered.IS_ONTIME == False) ])\n",
    "s1 = np.var(df_cpms_full_filtered[df_cpms_full_filtered.IS_ONTIME == True].centrality)\n",
    "s2 = np.var(df_cpms_full_filtered[(df_cpms_full_filtered.IS_ONTIME == False) ].centrality)\n",
    "m1 = df_cpms_full_filtered[df_cpms_full_filtered.IS_ONTIME == True].centrality.mean()\n",
    "m2 = df_cpms_full_filtered[(df_cpms_full_filtered.IS_ONTIME == False) ].centrality.mean()"
   ]
  },
  {
   "cell_type": "code",
   "execution_count": 22,
   "id": "f50a8da9",
   "metadata": {},
   "outputs": [
    {
     "name": "stdout",
     "output_type": "stream",
     "text": [
      "The difference is significant\n"
     ]
    },
    {
     "data": {
      "text/plain": [
       "2.7203163396459495"
      ]
     },
     "execution_count": 22,
     "metadata": {},
     "output_type": "execute_result"
    }
   ],
   "source": [
    "significance(n1, n2, s1, s2, m1, m2)"
   ]
  },
  {
   "cell_type": "code",
   "execution_count": 23,
   "id": "afa72896",
   "metadata": {},
   "outputs": [],
   "source": [
    "s1 = np.var(df_cpms_full_filtered[df_cpms_full_filtered.IS_ONTIME == True].n_users)\n",
    "s2 = np.var(df_cpms_full_filtered[(df_cpms_full_filtered.IS_ONTIME == False) ].n_users)\n",
    "m1 = df_cpms_full_filtered[df_cpms_full_filtered.IS_ONTIME == True].n_users.mean()\n",
    "m2 = df_cpms_full_filtered[(df_cpms_full_filtered.IS_ONTIME == False) ].n_users.mean()"
   ]
  },
  {
   "cell_type": "code",
   "execution_count": 24,
   "id": "fec1811f",
   "metadata": {},
   "outputs": [
    {
     "name": "stdout",
     "output_type": "stream",
     "text": [
      "The difference is NOT significant\n"
     ]
    },
    {
     "data": {
      "text/plain": [
       "-0.054023111612753624"
      ]
     },
     "execution_count": 24,
     "metadata": {},
     "output_type": "execute_result"
    }
   ],
   "source": [
    "significance(n1, n2, s1, s2, m1, m2)"
   ]
  },
  {
   "cell_type": "code",
   "execution_count": 25,
   "id": "51fdfbe7",
   "metadata": {},
   "outputs": [],
   "source": [
    "csvs = os.path.abspath(os.path.join('..', 'csvs'))\n",
    "df_cpms_full_filtered[['PROJECT_ID','IS_ONTIME', 'centrality']].to_csv(os.path.join(csvs,'cpms.csv'), index=True)"
   ]
  },
  {
   "cell_type": "code",
   "execution_count": 31,
   "id": "5b6deb40",
   "metadata": {},
   "outputs": [],
   "source": [
    "def ks_sample_test(\n",
    "        sample1:np.ndarray, \n",
    "        sample2:np.ndarray):\n",
    "    return ks_2samp(\n",
    "        sample1, \n",
    "        sample2).pvalue"
   ]
  },
  {
   "cell_type": "code",
   "execution_count": 32,
   "id": "56047ce4",
   "metadata": {},
   "outputs": [
    {
     "data": {
      "text/plain": [
       "0.027228471156922323"
      ]
     },
     "execution_count": 32,
     "metadata": {},
     "output_type": "execute_result"
    }
   ],
   "source": [
    "ks_sample_test(df_cpms_full_filtered[df_cpms_full_filtered.IS_ONTIME == True].centrality, \n",
    "         df_cpms_full_filtered[df_cpms_full_filtered.IS_ONTIME == False].centrality)"
   ]
  },
  {
   "cell_type": "code",
   "execution_count": 33,
   "id": "637f4ef7",
   "metadata": {},
   "outputs": [
    {
     "data": {
      "text/plain": [
       "0.9978560048309466"
      ]
     },
     "execution_count": 33,
     "metadata": {},
     "output_type": "execute_result"
    }
   ],
   "source": [
    "ks_sample_test(df_cpms_full_filtered[df_cpms_full_filtered.IS_ONTIME == True].n_users,\n",
    "         df_cpms_full_filtered[df_cpms_full_filtered.IS_ONTIME == False].n_users)"
   ]
  },
  {
   "cell_type": "code",
   "execution_count": null,
   "id": "a6f04886",
   "metadata": {},
   "outputs": [],
   "source": []
  }
 ],
 "metadata": {
  "jupytext": {
   "cell_metadata_filter": "-all",
   "main_language": "python",
   "notebook_metadata_filter": "-all"
  },
  "kernelspec": {
   "display_name": "thesis_env",
   "language": "python",
   "name": "python3"
  },
  "language_info": {
   "codemirror_mode": {
    "name": "ipython",
    "version": 3
   },
   "file_extension": ".py",
   "mimetype": "text/x-python",
   "name": "python",
   "nbconvert_exporter": "python",
   "pygments_lexer": "ipython3",
   "version": "3.9.15"
  }
 },
 "nbformat": 4,
 "nbformat_minor": 5
}
