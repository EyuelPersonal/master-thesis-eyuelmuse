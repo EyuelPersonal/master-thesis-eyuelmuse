{
 "cells": [
  {
   "cell_type": "code",
   "execution_count": 1,
   "id": "f6d8fd21",
   "metadata": {},
   "outputs": [],
   "source": [
    "import os\n",
    "csvs_dir = os.path.abspath(os.path.join('../csvs'))"
   ]
  },
  {
   "cell_type": "code",
   "execution_count": 2,
   "id": "00f75cde",
   "metadata": {},
   "outputs": [],
   "source": [
    "import numpy as np\n",
    "import pandas as pd\n",
    "from sklearn import preprocessing\n",
    "from sklearn.model_selection import train_test_split\n",
    "from sklearn.svm import SVC\n",
    "from sklearn.tree import DecisionTreeClassifier\n",
    "from sklearn.ensemble import RandomForestClassifier"
   ]
  },
  {
   "cell_type": "code",
   "execution_count": 3,
   "id": "254377ba",
   "metadata": {},
   "outputs": [],
   "source": [
    "creatives_df = pd.read_csv(os.path.join(csvs_dir,'creatives.csv')).set_index('PROJECT_ID')\n",
    "cpms_df = pd.read_csv(os.path.join(csvs_dir,'cpms.csv')).set_index('PROJECT_ID')\n",
    "project_df = pd.read_csv(os.path.join(csvs_dir,'project.csv')).set_index('PROJECT_ID')"
   ]
  },
  {
   "cell_type": "code",
   "execution_count": 4,
   "id": "fb787e40",
   "metadata": {},
   "outputs": [],
   "source": [
    "df_final = creatives_df.join(cpms_df[['centrality']], how='inner').join(project_df[['density']], how = 'inner')"
   ]
  },
  {
   "cell_type": "code",
   "execution_count": 5,
   "id": "2aa078a7",
   "metadata": {},
   "outputs": [],
   "source": [
    "df_final['IS_ONTIME'] = df_final.IS_ONTIME*1"
   ]
  },
  {
   "cell_type": "code",
   "execution_count": 6,
   "id": "adb0cd8b",
   "metadata": {},
   "outputs": [],
   "source": [
    "df_final = df_final[['IS_ONTIME', 'degree_centrality_var', 'degree_entropy',\n",
    "       'eigen_centrality_var', 'eigen_entropy', 'centrality',\n",
    "       'density','n_users']]"
   ]
  },
  {
   "cell_type": "code",
   "execution_count": 7,
   "id": "249cd9e9",
   "metadata": {},
   "outputs": [],
   "source": [
    "df_final.dropna(inplace=True)"
   ]
  },
  {
   "cell_type": "code",
   "execution_count": null,
   "id": "5aa02615",
   "metadata": {},
   "outputs": [],
   "source": [
    "degree_sequence = sorted((d for n, d in G.degree()), reverse=True)"
   ]
  },
  {
   "cell_type": "code",
   "execution_count": 8,
   "id": "829d2746",
   "metadata": {},
   "outputs": [],
   "source": [
    "scaler = preprocessing.StandardScaler()\n",
    "enc = preprocessing.OneHotEncoder(handle_unknown='ignore')"
   ]
  },
  {
   "cell_type": "code",
   "execution_count": 9,
   "id": "94f4261d",
   "metadata": {},
   "outputs": [],
   "source": [
    "X = df_final[['eigen_centrality_var','centrality', 'density','n_users']]\n",
    "y = df_final[['IS_ONTIME']]"
   ]
  },
  {
   "cell_type": "code",
   "execution_count": 10,
   "id": "0de7e4e6",
   "metadata": {},
   "outputs": [],
   "source": [
    "X_train, X_test, y_train, y_test = train_test_split(X, y, test_size=0.2, random_state=42)"
   ]
  },
  {
   "cell_type": "code",
   "execution_count": 11,
   "id": "627e5957",
   "metadata": {},
   "outputs": [],
   "source": [
    "X_train = scaler.fit_transform(X_train)\n",
    "X_test = scaler.fit_transform(X_test)"
   ]
  },
  {
   "cell_type": "code",
   "execution_count": 12,
   "id": "8e255c44",
   "metadata": {},
   "outputs": [
    {
     "data": {
      "text/plain": [
       "IS_ONTIME    0.848901\n",
       "dtype: float64"
      ]
     },
     "execution_count": 12,
     "metadata": {},
     "output_type": "execute_result"
    }
   ],
   "source": [
    "1 - y_test.sum()/len(y_test)"
   ]
  },
  {
   "cell_type": "code",
   "execution_count": 13,
   "id": "57d1df81",
   "metadata": {},
   "outputs": [
    {
     "name": "stdout",
     "output_type": "stream",
     "text": [
      "              precision    recall  f1-score   support\n",
      "\n",
      "           0       0.85      1.00      0.92       309\n",
      "           1       0.00      0.00      0.00        55\n",
      "\n",
      "    accuracy                           0.85       364\n",
      "   macro avg       0.42      0.50      0.46       364\n",
      "weighted avg       0.72      0.85      0.78       364\n",
      "\n"
     ]
    },
    {
     "name": "stderr",
     "output_type": "stream",
     "text": [
      "/Users/eyuelmelese/miniconda3/envs/thesis_env/lib/python3.9/site-packages/sklearn/utils/validation.py:1143: DataConversionWarning: A column-vector y was passed when a 1d array was expected. Please change the shape of y to (n_samples, ), for example using ravel().\n",
      "  y = column_or_1d(y, warn=True)\n",
      "/Users/eyuelmelese/miniconda3/envs/thesis_env/lib/python3.9/site-packages/sklearn/metrics/_classification.py:1344: UndefinedMetricWarning: Precision and F-score are ill-defined and being set to 0.0 in labels with no predicted samples. Use `zero_division` parameter to control this behavior.\n",
      "  _warn_prf(average, modifier, msg_start, len(result))\n",
      "/Users/eyuelmelese/miniconda3/envs/thesis_env/lib/python3.9/site-packages/sklearn/metrics/_classification.py:1344: UndefinedMetricWarning: Precision and F-score are ill-defined and being set to 0.0 in labels with no predicted samples. Use `zero_division` parameter to control this behavior.\n",
      "  _warn_prf(average, modifier, msg_start, len(result))\n",
      "/Users/eyuelmelese/miniconda3/envs/thesis_env/lib/python3.9/site-packages/sklearn/metrics/_classification.py:1344: UndefinedMetricWarning: Precision and F-score are ill-defined and being set to 0.0 in labels with no predicted samples. Use `zero_division` parameter to control this behavior.\n",
      "  _warn_prf(average, modifier, msg_start, len(result))\n"
     ]
    }
   ],
   "source": [
    "clf = SVC().fit(X_train, y_train)\n",
    "from sklearn.metrics import classification_report\n",
    "y_pred = clf.predict(X_test)\n",
    "print(classification_report(y_test, y_pred))"
   ]
  },
  {
   "cell_type": "code",
   "execution_count": 16,
   "id": "266fe98e",
   "metadata": {},
   "outputs": [
    {
     "name": "stdout",
     "output_type": "stream",
     "text": [
      "              precision    recall  f1-score   support\n",
      "\n",
      "           0       0.84      0.93      0.88       309\n",
      "           1       0.04      0.02      0.03        55\n",
      "\n",
      "    accuracy                           0.79       364\n",
      "   macro avg       0.44      0.47      0.45       364\n",
      "weighted avg       0.72      0.79      0.75       364\n",
      "\n"
     ]
    }
   ],
   "source": [
    "clf = DecisionTreeClassifier(max_depth=10)\n",
    "clf .fit(X_train, y_train)\n",
    "y_pred = clf.predict(X_test)\n",
    "print(classification_report(y_test, y_pred))"
   ]
  },
  {
   "cell_type": "code",
   "execution_count": 17,
   "id": "a0d6da13",
   "metadata": {},
   "outputs": [
    {
     "data": {
      "text/plain": [
       "array([0.41863278, 0.24870599, 0.14330533, 0.18935589])"
      ]
     },
     "execution_count": 17,
     "metadata": {},
     "output_type": "execute_result"
    }
   ],
   "source": [
    "clf.feature_importances_"
   ]
  },
  {
   "cell_type": "code",
   "execution_count": 19,
   "id": "6d4259be",
   "metadata": {},
   "outputs": [
    {
     "name": "stdout",
     "output_type": "stream",
     "text": [
      "              precision    recall  f1-score   support\n",
      "\n",
      "           0       0.84      0.93      0.88       309\n",
      "           1       0.04      0.02      0.03        55\n",
      "\n",
      "    accuracy                           0.79       364\n",
      "   macro avg       0.44      0.47      0.45       364\n",
      "weighted avg       0.72      0.79      0.75       364\n",
      "\n"
     ]
    }
   ],
   "source": [
    "print(classification_report(y_test, y_pred))"
   ]
  },
  {
   "cell_type": "code",
   "execution_count": null,
   "id": "846664dc",
   "metadata": {},
   "outputs": [],
   "source": []
  }
 ],
 "metadata": {
  "jupytext": {
   "cell_metadata_filter": "-all",
   "main_language": "python",
   "notebook_metadata_filter": "-all"
  },
  "kernelspec": {
   "display_name": "thesis_env",
   "language": "python",
   "name": "python3"
  },
  "language_info": {
   "codemirror_mode": {
    "name": "ipython",
    "version": 3
   },
   "file_extension": ".py",
   "mimetype": "text/x-python",
   "name": "python",
   "nbconvert_exporter": "python",
   "pygments_lexer": "ipython3",
   "version": "3.9.15"
  }
 },
 "nbformat": 4,
 "nbformat_minor": 5
}
