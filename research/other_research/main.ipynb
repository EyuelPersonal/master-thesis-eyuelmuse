{
 "cells": [
  {
   "cell_type": "code",
   "execution_count": null,
   "id": "309e76cb",
   "metadata": {},
   "outputs": [],
   "source": [
    "# Databricks notebook source\n",
    "import matplotlib.pyplot as plt\n",
    "import networkx as nx\n",
    "from utils import format_data\n",
    "import os\n",
    "import pandas as pd\n",
    "import numpy as np"
   ]
  },
  {
   "cell_type": "markdown",
   "id": "7b49c625",
   "metadata": {},
   "source": [
    "COMMAND ----------"
   ]
  },
  {
   "cell_type": "code",
   "execution_count": null,
   "id": "9470fd01",
   "metadata": {},
   "outputs": [],
   "source": [
    "from databricks_access_layer.db_connector import DBConnector\n",
    "from databricks_access_layer.query import Query\n",
    "from databricks_access_layer.credentials import SnowflakeCredentials, SecretsManagerProvider"
   ]
  },
  {
   "cell_type": "code",
   "execution_count": null,
   "id": "40870c4c",
   "metadata": {},
   "outputs": [],
   "source": [
    "snowflake_credentials = SecretsManagerProvider(secret_name='airflow/connections/dal').get_credentials()\n",
    "snow_runner = DBConnector(credentials=snowflake_credentials)"
   ]
  },
  {
   "cell_type": "code",
   "execution_count": null,
   "id": "92e0c6d3",
   "metadata": {},
   "outputs": [],
   "source": [
    "conversations_public = Query('queries/conversations_public.sql')\n",
    "dict_cursor = snow_runner.get_data_dict(conversations_public)"
   ]
  },
  {
   "cell_type": "markdown",
   "id": "8bdba908",
   "metadata": {},
   "source": [
    "COMMAND ----------"
   ]
  },
  {
   "cell_type": "code",
   "execution_count": null,
   "id": "cc5cbb39",
   "metadata": {},
   "outputs": [],
   "source": [
    "df = pd.DataFrame(dict_cursor)\n",
    "df['projects_per_user'] = df.groupby(['USER_ID'])['PROJECT_ID'].transform('nunique')\n",
    "df['users_per_project'] = df.groupby(['PROJECT_ID'])['USER_ID'].transform('nunique')\n",
    "df['projects_per_user_quantile'] = pd.qcut(df['projects_per_user'], 10, labels=False)\n",
    "df['users_per_project_quantile'] = pd.qcut(df['users_per_project'], 3, labels=False)"
   ]
  },
  {
   "cell_type": "markdown",
   "id": "1181098e",
   "metadata": {},
   "source": [
    "COMMAND ----------"
   ]
  },
  {
   "cell_type": "code",
   "execution_count": null,
   "id": "99ee76cc",
   "metadata": {
    "lines_to_next_cell": 1
   },
   "outputs": [],
   "source": [
    "user_roles = Query('queries/user_roles.sql')\n",
    "dict_cursor_roles = snow_runner.get_data_dict(user_roles)"
   ]
  },
  {
   "cell_type": "markdown",
   "id": "e60f7b06",
   "metadata": {},
   "source": [
    "COMMAND ----------"
   ]
  },
  {
   "cell_type": "code",
   "execution_count": null,
   "id": "c18fb6cf",
   "metadata": {
    "lines_to_next_cell": 1
   },
   "outputs": [],
   "source": [
    "def filtered_users(df:pd.DataFrame, \n",
    "                   quantile:int, \n",
    "                   data:list) -> list: \n",
    "    user_list = list(set(df[df.users_per_project_quantile == quantile].USER_ID))\n",
    "    return list(filter(lambda x: x['USER_ID'] in user_list, data))"
   ]
  },
  {
   "cell_type": "code",
   "execution_count": null,
   "id": "36eb3176",
   "metadata": {
    "lines_to_next_cell": 1
   },
   "outputs": [],
   "source": [
    "def build_network(data:list, roles:list) -> nx.Graph:\n",
    "    interactions_list, users_list = format_data(data)\n",
    "    interactions_list = [i +  (len(list(filter(lambda interaction: interaction == i, interactions_list))),) for i in interactions_list]\n",
    "    G = nx.Graph()\n",
    "    G.add_nodes_from(users_list)\n",
    "    G.add_weighted_edges_from(interactions_list)\n",
    "    attrs = {i['USER_ID']:{\"POSITION\": i['POSITION'], \"ROLE\": i['ROLE'], \"JOB_CATEGORY\": i['JOB_CATEGORY']}  for i in roles}\n",
    "    nx.set_node_attributes(G, attrs)\n",
    "    return G"
   ]
  },
  {
   "cell_type": "code",
   "execution_count": null,
   "id": "684213ef",
   "metadata": {},
   "outputs": [],
   "source": [
    "def centrality(G:nx.Graph, eigen_vector:bool = True) -> dict:\n",
    "    if eigen_vector:\n",
    "        centrality = nx.eigenvector_centrality(G, max_iter=1000, tol=1e-06, nstart=None, weight=None) \n",
    "    else:\n",
    "        centrality = nx.pagerank(G, alpha=0.85)\n",
    "    return centrality"
   ]
  },
  {
   "cell_type": "markdown",
   "id": "1a5b6518",
   "metadata": {},
   "source": [
    "COMMAND ----------"
   ]
  },
  {
   "cell_type": "code",
   "execution_count": null,
   "id": "cf90beb2",
   "metadata": {},
   "outputs": [],
   "source": [
    "projects = list(set(df.PROJECT_ID))\n",
    "list_net = []\n",
    "for project in  projects:\n",
    "    user_list = list(set(df[df.PROJECT_ID == project].USER_ID))\n",
    "    data = list(filter(lambda x: x['USER_ID'] in user_list, dict_cursor))\n",
    "    roles = list(filter(lambda x: x['USER_ID'] in user_list, dict_cursor_roles))\n",
    "    list_net.append(build_network(data, roles))"
   ]
  },
  {
   "cell_type": "markdown",
   "id": "4871e1ee",
   "metadata": {},
   "source": [
    "COMMAND ----------"
   ]
  },
  {
   "cell_type": "code",
   "execution_count": null,
   "id": "36b62c02",
   "metadata": {},
   "outputs": [],
   "source": [
    "centrality_dict = dict()\n",
    "for i in range(3):\n",
    "    data = filtered_users(df, i, dict_cursor)\n",
    "    G = build_network(data, dict_cursor_roles)\n",
    "    creatives = [x[0] for x in list(filter(lambda x: x[1] == 'Creative', list(G.nodes(data = \"ROLE\"))))]\n",
    "    H = G.subgraph(creatives)\n",
    "    centrality_dict = centrality_dict | centrality(H, eigen_vector=True)"
   ]
  },
  {
   "cell_type": "markdown",
   "id": "6185c0f6",
   "metadata": {},
   "source": [
    "COMMAND ----------"
   ]
  },
  {
   "cell_type": "code",
   "execution_count": null,
   "id": "3d6db73d",
   "metadata": {},
   "outputs": [],
   "source": [
    "centrality_dict = dict(sorted(centrality_dict.items(), key=lambda item: item[1], reverse=True ))"
   ]
  },
  {
   "cell_type": "markdown",
   "id": "eddce1f2",
   "metadata": {},
   "source": [
    "COMMAND ----------"
   ]
  },
  {
   "cell_type": "code",
   "execution_count": null,
   "id": "fa033cd3",
   "metadata": {},
   "outputs": [],
   "source": [
    "creative_mrr = Query('queries/creative_mrr.sql')\n",
    "creative_mrr_cursor = snow_runner.get_data_dict(creative_mrr)"
   ]
  },
  {
   "cell_type": "markdown",
   "id": "a74bec06",
   "metadata": {},
   "source": [
    "COMMAND ----------"
   ]
  },
  {
   "cell_type": "code",
   "execution_count": null,
   "id": "528167a1",
   "metadata": {},
   "outputs": [],
   "source": [
    "df_creative_mrr = pd.DataFrame(creative_mrr_cursor)"
   ]
  },
  {
   "cell_type": "markdown",
   "id": "d374d04d",
   "metadata": {},
   "source": [
    "COMMAND ----------"
   ]
  },
  {
   "cell_type": "code",
   "execution_count": null,
   "id": "37aa40e6",
   "metadata": {},
   "outputs": [],
   "source": [
    "df_creative_mrr['cetrality'] = df_creative_mrr.USER_ID.map(centrality_dict)"
   ]
  },
  {
   "cell_type": "markdown",
   "id": "4e6f4b7b",
   "metadata": {},
   "source": [
    "COMMAND ----------"
   ]
  },
  {
   "cell_type": "code",
   "execution_count": null,
   "id": "93d5b35a",
   "metadata": {},
   "outputs": [],
   "source": [
    "df_creative_mrr.AVG_HOURS_LOGGED = df_creative_mrr.AVG_HOURS_LOGGED.apply(lambda x:float(x))"
   ]
  },
  {
   "cell_type": "code",
   "execution_count": null,
   "id": "82d5ea55",
   "metadata": {},
   "outputs": [],
   "source": [
    "mean_avg_hours_logged = np.mean(df_creative_mrr.AVG_HOURS_LOGGED)\n",
    "std_avg_hours_logged = np.std(df_creative_mrr.AVG_HOURS_LOGGED)"
   ]
  },
  {
   "cell_type": "code",
   "execution_count": null,
   "id": "645d5c6d",
   "metadata": {},
   "outputs": [],
   "source": [
    "df_creative_mrr.AVG_HOURS_LOGGED = df_creative_mrr.AVG_HOURS_LOGGED.apply(lambda x: (x - mean_avg_hours_logged)/std_avg_hours_logged)"
   ]
  },
  {
   "cell_type": "code",
   "execution_count": null,
   "id": "0147b64b",
   "metadata": {},
   "outputs": [],
   "source": [
    "mean_centrality = np.mean(df_creative_mrr.cetrality)\n",
    "std_centrality = np.std(df_creative_mrr.cetrality)"
   ]
  },
  {
   "cell_type": "code",
   "execution_count": null,
   "id": "5dd93c89",
   "metadata": {},
   "outputs": [],
   "source": [
    "df_creative_mrr.cetrality = df_creative_mrr.cetrality.apply(lambda x: (x - mean_centrality)/std_centrality)"
   ]
  },
  {
   "cell_type": "markdown",
   "id": "957708c2",
   "metadata": {},
   "source": [
    "COMMAND ----------"
   ]
  },
  {
   "cell_type": "code",
   "execution_count": null,
   "id": "6e705d36",
   "metadata": {},
   "outputs": [],
   "source": [
    "df_creative_mrr = df_creative_mrr[df_creative_mrr.cetrality.notna()]"
   ]
  },
  {
   "cell_type": "markdown",
   "id": "133f89b3",
   "metadata": {},
   "source": [
    "COMMAND ----------"
   ]
  },
  {
   "cell_type": "code",
   "execution_count": null,
   "id": "8dc1e89d",
   "metadata": {},
   "outputs": [],
   "source": [
    "len(df_creative_mrr)"
   ]
  },
  {
   "cell_type": "markdown",
   "id": "b338a951",
   "metadata": {},
   "source": [
    "COMMAND ----------"
   ]
  },
  {
   "cell_type": "code",
   "execution_count": null,
   "id": "bc661768",
   "metadata": {},
   "outputs": [],
   "source": [
    "df_creative_mrr.corr()"
   ]
  },
  {
   "cell_type": "markdown",
   "id": "cc5bd80f",
   "metadata": {},
   "source": [
    "COMMAND ----------"
   ]
  },
  {
   "cell_type": "code",
   "execution_count": null,
   "id": "16b07bc1",
   "metadata": {},
   "outputs": [],
   "source": [
    "df_creative_mrr[df_creative_mrr.USER_ID.isin(['U4AMYQDAN', 'U026VFR8R3K','U029PBLH52N','U02BMKLR9NJ','U03KTQUJBFE','U02BPFFAXK2'])]"
   ]
  },
  {
   "cell_type": "markdown",
   "id": "2fc8abce",
   "metadata": {},
   "source": [
    "COMMAND ----------"
   ]
  },
  {
   "cell_type": "code",
   "execution_count": null,
   "id": "be653dc9",
   "metadata": {},
   "outputs": [],
   "source": [
    "df[df.USER_ID.isin(['U4AMYQDAN', 'U026VFR8R3K','U029PBLH52N','U02BMKLR9NJ','U03KTQUJBFE','U02BPFFAXK2']) & df.REPLY_USERS.notna()]"
   ]
  },
  {
   "cell_type": "markdown",
   "id": "48181273",
   "metadata": {},
   "source": [
    "COMMAND ----------"
   ]
  },
  {
   "cell_type": "code",
   "execution_count": null,
   "id": "6006be69",
   "metadata": {},
   "outputs": [],
   "source": []
  }
 ],
 "metadata": {
  "jupytext": {
   "cell_metadata_filter": "-all",
   "main_language": "python",
   "notebook_metadata_filter": "-all"
  }
 },
 "nbformat": 4,
 "nbformat_minor": 5
}
