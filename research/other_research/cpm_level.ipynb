{
 "cells": [
  {
   "cell_type": "code",
   "execution_count": 10,
   "id": "58050a59",
   "metadata": {},
   "outputs": [],
   "source": [
    "import os\n",
    "import sys\n",
    "sys.path.append(os.path.abspath(os.path.join('..')))\n",
    "from utils import *\n"
   ]
  },
  {
   "cell_type": "code",
   "execution_count": 2,
   "id": "42b7c907",
   "metadata": {},
   "outputs": [],
   "source": [
    "import matplotlib.pyplot as plt\n",
    "import pandas as pd\n",
    "import numpy as np\n",
    "import warnings\n",
    "import dal\n",
    "warnings.filterwarnings(\"ignore\")\n",
    "\n",
    "snow_runner = dal.SnowflakeRunner()"
   ]
  },
  {
   "cell_type": "code",
   "execution_count": 3,
   "id": "f0bb8f7f",
   "metadata": {},
   "outputs": [],
   "source": [
    "dict_cursor = snow_runner.get_data_raw('queries/conversations_public.sql')\n",
    "dict_cursor_roles = snow_runner.get_data_raw('queries/user_roles.sql')\n",
    "df = pd.DataFrame(dict_cursor)\n",
    "df['users_per_project'] = df.groupby(['PROJECT_ID'])['USER_ID'].transform('nunique')\n",
    "df['users_per_project_quantile'] = pd.qcut(df['users_per_project'], 3, labels=False)"
   ]
  },
  {
   "cell_type": "code",
   "execution_count": 6,
   "id": "4c35d3d8",
   "metadata": {},
   "outputs": [],
   "source": [
    "project_users = snow_runner.get_data_raw('queries/project_to_staff.sql')\n",
    "df_project_users = pd.DataFrame(project_users)"
   ]
  },
  {
   "cell_type": "code",
   "execution_count": 8,
   "id": "3e19af16",
   "metadata": {},
   "outputs": [],
   "source": [
    "dict_cursor_roles = snow_runner.get_data_raw('queries/user_roles.sql')"
   ]
  },
  {
   "cell_type": "code",
   "execution_count": 12,
   "id": "10debb8d",
   "metadata": {},
   "outputs": [],
   "source": [
    "projects = list(set(df.PROJECT_ID))\n",
    "list_net = []\n",
    "for project in  projects:\n",
    "    user_list = list(set(df[df.PROJECT_ID == project].USER_ID))\n",
    "    data = list(filter(lambda x: x['PROJECT_ID'] == project, dict_cursor))\n",
    "    roles = list(filter(lambda x: x['USER_ID'] in user_list, dict_cursor_roles))\n",
    "    list_net.append({'project_id':project, 'network': utils.build_network(data, roles)})"
   ]
  },
  {
   "cell_type": "code",
   "execution_count": 13,
   "id": "5bd74c88",
   "metadata": {},
   "outputs": [],
   "source": [
    "project_centrality = []\n",
    "for project in projects:\n",
    "    network = [i for i in filter(lambda x: x['project_id'] == project, list_net)][0]['network']\n",
    "    centrality_dict = utils.centrality(network, eigen_vector=True)\n",
    "    centrality_list = [{key:value} for key, value in centrality_dict.items()]\n",
    "    for i in centrality_list:\n",
    "        for user, centrality_ in i.items():\n",
    "            \n",
    "            project_centrality.append({'project_id': project, 'user_id': user, 'centrality': centrality_})"
   ]
  },
  {
   "cell_type": "code",
   "execution_count": 14,
   "id": "789f53ee",
   "metadata": {},
   "outputs": [],
   "source": [
    "df_user_centrality = pd.DataFrame(project_centrality)\n",
    "df_project_users_filtered = df_project_users[df_project_users.PROJECT_ID.isin(projects)]"
   ]
  },
  {
   "cell_type": "code",
   "execution_count": 15,
   "id": "e97b3cb1",
   "metadata": {},
   "outputs": [],
   "source": [
    "df_centrality = df_project_users_filtered.merge(df_user_centrality, right_on=['project_id', 'user_id'], left_on=['PROJECT_ID', 'USER_ID'], how = 'left')\n",
    "df_centrality= df_centrality[pd.notnull(df_centrality.project_id)]\n",
    "df_centrality = df_centrality[['PROJECT_ID', 'USER_ID', 'centrality','MAPPING_TYPE']].fillna(0)\n",
    "df_centrality_cpms = df_centrality[df_centrality.MAPPING_TYPE == 'CPM']"
   ]
  },
  {
   "cell_type": "code",
   "execution_count": 18,
   "id": "ca3d5171",
   "metadata": {},
   "outputs": [],
   "source": [
    "project_on_time = snow_runner.get_data_raw('queries/project_on_time.sql')\n",
    "df_project_on_time = pd.DataFrame(project_on_time)"
   ]
  },
  {
   "cell_type": "code",
   "execution_count": 19,
   "id": "fa3b2c29",
   "metadata": {},
   "outputs": [],
   "source": [
    "df_cpms_full = df_centrality_cpms.merge(df_project_on_time, how = 'left', right_on='PROJECT_ID', left_on='PROJECT_ID')\n",
    "df_cpms_full_filtered = df_cpms_full[pd.notnull(df_cpms_full.IS_ONTIME)]"
   ]
  },
  {
   "cell_type": "code",
   "execution_count": 20,
   "id": "cc5eabfc",
   "metadata": {},
   "outputs": [
    {
     "data": {
      "text/plain": [
       "138"
      ]
     },
     "execution_count": 20,
     "metadata": {},
     "output_type": "execute_result"
    }
   ],
   "source": [
    "len(set(df_cpms_full.USER_ID))"
   ]
  },
  {
   "cell_type": "code",
   "execution_count": 21,
   "id": "2efe8e38",
   "metadata": {},
   "outputs": [
    {
     "data": {
      "text/plain": [
       "7.732572118709564e-19"
      ]
     },
     "execution_count": 21,
     "metadata": {},
     "output_type": "execute_result"
    }
   ],
   "source": [
    "df_cpms_full_filtered.centrality.min()"
   ]
  },
  {
   "cell_type": "code",
   "execution_count": 22,
   "id": "6db615a7",
   "metadata": {},
   "outputs": [],
   "source": [
    "df_final = df_cpms_full_filtered.groupby('USER_ID').agg({'PROJECT_ID':'nunique', 'IS_ONTIME':'sum', 'centrality':'mean'})"
   ]
  },
  {
   "cell_type": "code",
   "execution_count": 23,
   "id": "6f430e59",
   "metadata": {},
   "outputs": [],
   "source": [
    "df_final['pct_project_ot'] = df_final.IS_ONTIME/df_final.PROJECT_ID\n",
    "df_final['pct_project_not'] = 1 - df_final.pct_project_ot\n",
    "df_final['entropy'] = - ((df_final.pct_project_ot*np.log(df_final.pct_project_ot)) + (df_final.pct_project_not*np.log(df_final.pct_project_not)))"
   ]
  },
  {
   "cell_type": "code",
   "execution_count": 24,
   "id": "9f9ad287",
   "metadata": {},
   "outputs": [],
   "source": [
    "df_final['log_projects'] = np.log(df_final.PROJECT_ID)\n",
    "df_final['log_pct_project_ot'] = np.log(df_final.pct_project_ot)\n",
    "df_final['log_pct_project_ot'].replace(-np.inf,np.NAN, inplace=True)"
   ]
  },
  {
   "cell_type": "code",
   "execution_count": 25,
   "id": "cb34179d",
   "metadata": {},
   "outputs": [],
   "source": [
    "mean_cantrality = df_final.centrality.mean()\n",
    "var_cantrality = np.var(df_final.centrality)"
   ]
  },
  {
   "cell_type": "code",
   "execution_count": 26,
   "id": "6e02acc4",
   "metadata": {},
   "outputs": [],
   "source": [
    "mean_entropy = df_final.entropy.mean()\n",
    "var_entropy = np.var(df_final.entropy) "
   ]
  },
  {
   "cell_type": "code",
   "execution_count": 27,
   "id": "97a0bb9f",
   "metadata": {},
   "outputs": [],
   "source": [
    "mean_pct_project_ot = df_final.pct_project_ot.mean()\n",
    "var_pct_project_ot = np.var(df_final.pct_project_ot)"
   ]
  },
  {
   "attachments": {},
   "cell_type": "markdown",
   "id": "000fff5d",
   "metadata": {},
   "source": [
    "df_final['normalised_centrality'] = df_final['centrality'].apply(lambda x:normalise(mean_cantrality, var_cantrality, x) )\n",
    "df_final['normalised_entropy'] = df_final['entropy'].apply(lambda x:normalise(mean_entropy, var_entropy, x) )\n",
    "df_final['normalised_pot'] = df_final['pct_project_ot'].apply(lambda x:normalise(mean_pct_project_ot, var_pct_project_ot, x) )"
   ]
  },
  {
   "cell_type": "code",
   "execution_count": 28,
   "id": "c47a35c4",
   "metadata": {},
   "outputs": [],
   "source": [
    "df_final = df_final[(df_final.PROJECT_ID > 10) & (df_final.IS_ONTIME > 0)]"
   ]
  },
  {
   "cell_type": "code",
   "execution_count": 29,
   "id": "6398b2d7",
   "metadata": {},
   "outputs": [],
   "source": [
    "df_final.fillna(1, inplace=True)"
   ]
  },
  {
   "cell_type": "code",
   "execution_count": 30,
   "id": "9286e969",
   "metadata": {},
   "outputs": [
    {
     "data": {
      "text/html": [
       "<div>\n",
       "<style scoped>\n",
       "    .dataframe tbody tr th:only-of-type {\n",
       "        vertical-align: middle;\n",
       "    }\n",
       "\n",
       "    .dataframe tbody tr th {\n",
       "        vertical-align: top;\n",
       "    }\n",
       "\n",
       "    .dataframe thead th {\n",
       "        text-align: right;\n",
       "    }\n",
       "</style>\n",
       "<table border=\"1\" class=\"dataframe\">\n",
       "  <thead>\n",
       "    <tr style=\"text-align: right;\">\n",
       "      <th></th>\n",
       "      <th>centrality</th>\n",
       "      <th>entropy</th>\n",
       "    </tr>\n",
       "  </thead>\n",
       "  <tbody>\n",
       "    <tr>\n",
       "      <th>centrality</th>\n",
       "      <td>1.000000</td>\n",
       "      <td>-0.024833</td>\n",
       "    </tr>\n",
       "    <tr>\n",
       "      <th>entropy</th>\n",
       "      <td>-0.024833</td>\n",
       "      <td>1.000000</td>\n",
       "    </tr>\n",
       "  </tbody>\n",
       "</table>\n",
       "</div>"
      ],
      "text/plain": [
       "            centrality   entropy\n",
       "centrality    1.000000 -0.024833\n",
       "entropy      -0.024833  1.000000"
      ]
     },
     "execution_count": 30,
     "metadata": {},
     "output_type": "execute_result"
    }
   ],
   "source": [
    "df_final[['centrality', 'entropy']].corr()"
   ]
  },
  {
   "cell_type": "code",
   "execution_count": 31,
   "id": "762de2a3",
   "metadata": {},
   "outputs": [
    {
     "data": {
      "text/plain": [
       "<matplotlib.collections.PathCollection at 0x1773c26a0>"
      ]
     },
     "execution_count": 31,
     "metadata": {},
     "output_type": "execute_result"
    },
    {
     "data": {
      "image/png": "[encoded data removed]",
      "text/plain": [
       "<Figure size 640x480 with 1 Axes>"
      ]
     },
     "metadata": {},
     "output_type": "display_data"
    }
   ],
   "source": [
    "plt.scatter(df_final.centrality, df_final.entropy)"
   ]
  },
  {
   "cell_type": "code",
   "execution_count": 32,
   "id": "dd39b046",
   "metadata": {},
   "outputs": [
    {
     "data": {
      "text/plain": [
       "-2.2554068127951186"
      ]
     },
     "execution_count": 32,
     "metadata": {},
     "output_type": "execute_result"
    }
   ],
   "source": [
    "df_final[df_final.centrality > .06].log_pct_project_ot.mean()"
   ]
  },
  {
   "cell_type": "code",
   "execution_count": 33,
   "id": "daea3cd6",
   "metadata": {},
   "outputs": [
    {
     "data": {
      "text/plain": [
       "nan"
      ]
     },
     "execution_count": 33,
     "metadata": {},
     "output_type": "execute_result"
    }
   ],
   "source": [
    "df_final[df_final.centrality < .06].log_pct_project_ot.mean()"
   ]
  },
  {
   "cell_type": "code",
   "execution_count": 34,
   "id": "5ae1886f",
   "metadata": {},
   "outputs": [
    {
     "data": {
      "text/plain": [
       "<AxesSubplot: >"
      ]
     },
     "execution_count": 34,
     "metadata": {},
     "output_type": "execute_result"
    },
    {
     "data": {
      "image/png": "[encoded data removed]",
      "text/plain": [
       "<Figure size 640x480 with 1 Axes>"
      ]
     },
     "metadata": {},
     "output_type": "display_data"
    }
   ],
   "source": [
    "df_final.centrality.hist(bins = 10)"
   ]
  },
  {
   "cell_type": "code",
   "execution_count": 35,
   "id": "d5b6555f",
   "metadata": {},
   "outputs": [
    {
     "data": {
      "text/plain": [
       "<AxesSubplot: >"
      ]
     },
     "execution_count": 35,
     "metadata": {},
     "output_type": "execute_result"
    },
    {
     "data": {
      "image/png": "[encoded data removed]",
      "text/plain": [
       "<Figure size 640x480 with 1 Axes>"
      ]
     },
     "metadata": {},
     "output_type": "display_data"
    }
   ],
   "source": [
    "df_final.log_projects.hist(bins = 10)"
   ]
  },
  {
   "cell_type": "code",
   "execution_count": 36,
   "id": "04538fde",
   "metadata": {},
   "outputs": [
    {
     "data": {
      "text/plain": [
       "<AxesSubplot: >"
      ]
     },
     "execution_count": 36,
     "metadata": {},
     "output_type": "execute_result"
    },
    {
     "data": {
      "image/png": "[encoded data removed]",
      "text/plain": [
       "<Figure size 640x480 with 1 Axes>"
      ]
     },
     "metadata": {},
     "output_type": "display_data"
    }
   ],
   "source": [
    "df_final.log_pct_project_ot.hist(bins = 5)"
   ]
  },
  {
   "cell_type": "code",
   "execution_count": 37,
   "id": "0a8715ff",
   "metadata": {},
   "outputs": [],
   "source": [
    "n1 = len(df_final[df_final.centrality > 0.55])\n",
    "n2 = len(df_final[(df_final.centrality < 0.55) ])\n",
    "s1 = np.var(df_final[df_final.centrality > 0.55].log_pct_project_ot)\n",
    "s2 = np.var(df_final[(df_final.centrality < 0.55) ].log_pct_project_ot)\n",
    "m1 = df_final[df_final.centrality > 0.55].log_pct_project_ot.mean()\n",
    "m2 = df_final[(df_final.centrality < 0.55) ].log_pct_project_ot.mean()"
   ]
  },
  {
   "cell_type": "code",
   "execution_count": 38,
   "id": "f0b0e2a9",
   "metadata": {},
   "outputs": [
    {
     "name": "stdout",
     "output_type": "stream",
     "text": [
      "The difference is NOT significant\n"
     ]
    },
    {
     "data": {
      "text/plain": [
       "0.006945157355068933"
      ]
     },
     "execution_count": 38,
     "metadata": {},
     "output_type": "execute_result"
    }
   ],
   "source": [
    "utils.significance(n1, n2, s1, s2, m1, m2)"
   ]
  },
  {
   "cell_type": "code",
   "execution_count": 39,
   "id": "b974a477",
   "metadata": {},
   "outputs": [],
   "source": [
    "s1 = np.var(df_final[df_final.centrality > 0.55].log_projects)\n",
    "s2 = np.var(df_final[(df_final.centrality < 0.55) ].log_projects)\n",
    "m1 = df_final[df_final.centrality > 0.55].log_projects.mean()\n",
    "m2 = df_final[(df_final.centrality < 0.55) ].log_projects.mean()"
   ]
  },
  {
   "cell_type": "code",
   "execution_count": 40,
   "id": "65b7f290",
   "metadata": {},
   "outputs": [
    {
     "name": "stdout",
     "output_type": "stream",
     "text": [
      "The difference is NOT significant\n"
     ]
    },
    {
     "data": {
      "text/plain": [
       "-0.4243547577061053"
      ]
     },
     "execution_count": 40,
     "metadata": {},
     "output_type": "execute_result"
    }
   ],
   "source": [
    "utils.significance(n1, n2, s1, s2, m1, m2)"
   ]
  }
 ],
 "metadata": {
  "jupytext": {
   "cell_metadata_filter": "-all",
   "main_language": "python",
   "notebook_metadata_filter": "-all"
  },
  "kernelspec": {
   "display_name": "thesis_env",
   "language": "python",
   "name": "python3"
  },
  "language_info": {
   "codemirror_mode": {
    "name": "ipython",
    "version": 3
   },
   "file_extension": ".py",
   "mimetype": "text/x-python",
   "name": "python",
   "nbconvert_exporter": "python",
   "pygments_lexer": "ipython3",
   "version": "3.9.15"
  }
 },
 "nbformat": 4,
 "nbformat_minor": 5
}
