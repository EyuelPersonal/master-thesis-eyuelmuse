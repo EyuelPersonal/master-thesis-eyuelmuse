{
 "cells": [
  {
   "cell_type": "code",
   "execution_count": 1,
   "id": "2a375180",
   "metadata": {},
   "outputs": [],
   "source": [
    "import os\n",
    "import sys\n",
    "sys.path.append(os.path.abspath(os.path.join('..')))\n",
    "from utils import *"
   ]
  },
  {
   "cell_type": "code",
   "execution_count": 2,
   "id": "37091495",
   "metadata": {},
   "outputs": [],
   "source": [
    "import matplotlib.pyplot as plt\n",
    "import pandas as pd\n",
    "import numpy as np\n",
    "import warnings\n",
    "import dal\n",
    "warnings.filterwarnings(\"ignore\")\n",
    "\n",
    "snow_runner = dal.SnowflakeRunner()"
   ]
  },
  {
   "cell_type": "code",
   "execution_count": 3,
   "id": "4cd609ec",
   "metadata": {},
   "outputs": [],
   "source": [
    "conversations_public = snow_runner.get_data_raw('queries/conversations_public.sql')\n",
    "df = pd.DataFrame(conversations_public)"
   ]
  },
  {
   "cell_type": "code",
   "execution_count": 4,
   "id": "99f0df1e",
   "metadata": {},
   "outputs": [],
   "source": [
    "project_users = snow_runner.get_data_raw('queries/project_to_staff.sql')\n",
    "df_project_users = pd.DataFrame(project_users)"
   ]
  },
  {
   "cell_type": "code",
   "execution_count": 5,
   "id": "6e87f041",
   "metadata": {},
   "outputs": [],
   "source": [
    "dict_cursor_roles = snow_runner.get_data_raw('queries/user_roles.sql')"
   ]
  },
  {
   "cell_type": "code",
   "execution_count": 6,
   "id": "7177c78b",
   "metadata": {},
   "outputs": [],
   "source": [
    "projects = list(set(df.PROJECT_ID))\n",
    "list_net = []\n",
    "for project in  projects:\n",
    "    user_list = list(set(df[df.PROJECT_ID == project].USER_ID))\n",
    "    data = list(filter(lambda x: x['PROJECT_ID'] == project, conversations_public))\n",
    "    roles = list(filter(lambda x: x['USER_ID'] in user_list, dict_cursor_roles))\n",
    "    list_net.append({'project_id':project, 'network': build_network(data, roles)})"
   ]
  },
  {
   "cell_type": "code",
   "execution_count": 8,
   "id": "4d11ecf9",
   "metadata": {},
   "outputs": [],
   "source": [
    "project_density = []\n",
    "for project in projects:\n",
    "    G = [i for i in filter(lambda x: x['project_id'] == project, list_net)][0]['network']\n",
    "    density = nx.density(G)\n",
    "    project_density.append({'project_id': project, 'density': density})"
   ]
  },
  {
   "cell_type": "code",
   "execution_count": 9,
   "id": "59c7148d",
   "metadata": {},
   "outputs": [],
   "source": [
    "## Investigate hown the metrics are defined in networkX for weighted graphs and send email to Albert"
   ]
  },
  {
   "cell_type": "code",
   "execution_count": 10,
   "id": "327bae9e",
   "metadata": {},
   "outputs": [],
   "source": [
    "df_density = pd.DataFrame(project_density).set_index('project_id')"
   ]
  },
  {
   "cell_type": "code",
   "execution_count": 11,
   "id": "07acd4fc",
   "metadata": {},
   "outputs": [],
   "source": [
    "project_clustering = []\n",
    "for project in projects:\n",
    "    G = [i for i in filter(lambda x: x['project_id'] == project, list_net)][0]['network']\n",
    "    clustering = nx.density(G)\n",
    "    project_clustering.append({'project_id': project, 'clustering': clustering})"
   ]
  },
  {
   "cell_type": "code",
   "execution_count": 12,
   "id": "8d7f9a4f",
   "metadata": {},
   "outputs": [],
   "source": [
    "df_clustering = pd.DataFrame(project_clustering).set_index('project_id')"
   ]
  },
  {
   "cell_type": "code",
   "execution_count": 13,
   "id": "603dac45",
   "metadata": {},
   "outputs": [],
   "source": [
    "df_metrics = df_density.join(df_clustering, how = 'left')"
   ]
  },
  {
   "cell_type": "code",
   "execution_count": 14,
   "id": "4127e26d",
   "metadata": {},
   "outputs": [],
   "source": [
    "project_on_time = snow_runner.get_data_raw('queries/project_on_time.sql')\n",
    "df_project_on_time = pd.DataFrame(project_on_time)"
   ]
  },
  {
   "cell_type": "code",
   "execution_count": 15,
   "id": "430b8e55",
   "metadata": {},
   "outputs": [],
   "source": [
    "df_project_on_time.set_index('PROJECT_ID', inplace = True)"
   ]
  },
  {
   "cell_type": "code",
   "execution_count": 16,
   "id": "59cc7d07",
   "metadata": {},
   "outputs": [],
   "source": [
    "df_full = df_project_on_time.join(df_metrics, how = 'inner')\n",
    "df_full_filtered = df_full[pd.notnull(df_full.IS_ONTIME)]"
   ]
  },
  {
   "cell_type": "code",
   "execution_count": 17,
   "id": "dbbd7d59",
   "metadata": {},
   "outputs": [],
   "source": [
    "df_nusers = pd.DataFrame(df_project_users.groupby('PROJECT_ID').USER_ID.nunique())\n",
    "df_nusers.columns = ['n_users']"
   ]
  },
  {
   "cell_type": "code",
   "execution_count": 18,
   "id": "918c669b",
   "metadata": {},
   "outputs": [],
   "source": [
    "df_final= df_full_filtered.join(df_nusers, how = 'inner')"
   ]
  },
  {
   "cell_type": "code",
   "execution_count": 19,
   "id": "e0d021e3",
   "metadata": {},
   "outputs": [
    {
     "data": {
      "text/plain": [
       "n_users\n",
       "1        4\n",
       "2       81\n",
       "3      202\n",
       "4      601\n",
       "5     1117\n",
       "6      768\n",
       "7      329\n",
       "8      152\n",
       "9       68\n",
       "10      51\n",
       "11      32\n",
       "12       5\n",
       "13       3\n",
       "15       1\n",
       "Name: index, dtype: int64"
      ]
     },
     "execution_count": 19,
     "metadata": {},
     "output_type": "execute_result"
    }
   ],
   "source": [
    "df_final.reset_index().groupby('n_users').index.nunique()"
   ]
  },
  {
   "cell_type": "code",
   "execution_count": 20,
   "id": "56d6f796",
   "metadata": {},
   "outputs": [],
   "source": [
    "df_final = df_final[(df_final.n_users > 3) & (df_final.n_users < 8)  & (df_final.density < 3)]"
   ]
  },
  {
   "cell_type": "code",
   "execution_count": 21,
   "id": "b3e108cc",
   "metadata": {},
   "outputs": [],
   "source": [
    "not_on_time = df_final[df_final.IS_ONTIME == False].density\n",
    "on_time = df_final[df_final.IS_ONTIME == True].density"
   ]
  },
  {
   "cell_type": "code",
   "execution_count": 22,
   "id": "6e62beb2",
   "metadata": {},
   "outputs": [
    {
     "data": {
      "text/plain": [
       "{'whiskers': [<matplotlib.lines.Line2D at 0x174ef18b0>,\n",
       "  <matplotlib.lines.Line2D at 0x174ef12e0>],\n",
       " 'caps': [<matplotlib.lines.Line2D at 0x174d4f0d0>,\n",
       "  <matplotlib.lines.Line2D at 0x174d4fc40>],\n",
       " 'boxes': [<matplotlib.lines.Line2D at 0x174ef1280>],\n",
       " 'medians': [<matplotlib.lines.Line2D at 0x174d4f520>],\n",
       " 'fliers': [<matplotlib.lines.Line2D at 0x174d4f910>],\n",
       " 'means': []}"
      ]
     },
     "execution_count": 22,
     "metadata": {},
     "output_type": "execute_result"
    },
    {
     "data": {
      "image/png": "[encoded data removed]",
      "text/plain": [
       "<Figure size 1500x1000 with 2 Axes>"
      ]
     },
     "metadata": {},
     "output_type": "display_data"
    }
   ],
   "source": [
    "fig, axes = plt.subplots(nrows=1, ncols=2, figsize=(15, 10))\n",
    "axes[0].set_title('NOT ON TIME')\n",
    "axes[0].boxplot(not_on_time)\n",
    "axes[1].set_title('ON TIME')\n",
    "axes[1].boxplot(on_time)"
   ]
  },
  {
   "cell_type": "code",
   "execution_count": 23,
   "id": "2f1aa63c",
   "metadata": {},
   "outputs": [],
   "source": [
    "n1 = len(df_final[df_final.IS_ONTIME == True])\n",
    "n2 = len(df_final[(df_final.IS_ONTIME == False) ])\n",
    "s1 = np.var(df_final[df_final.IS_ONTIME == True].density)\n",
    "s2 = np.var(df_final[(df_final.IS_ONTIME == False) ].density)\n",
    "m1 = df_final[df_final.IS_ONTIME == True].density.mean()\n",
    "m2 = df_final[(df_final.IS_ONTIME == False) ].density.mean()"
   ]
  },
  {
   "cell_type": "code",
   "execution_count": 24,
   "id": "82c98e67",
   "metadata": {},
   "outputs": [
    {
     "name": "stdout",
     "output_type": "stream",
     "text": [
      "The difference is significant\n"
     ]
    },
    {
     "data": {
      "text/plain": [
       "-1.7513258308463622"
      ]
     },
     "execution_count": 24,
     "metadata": {},
     "output_type": "execute_result"
    }
   ],
   "source": [
    "significance(n1, n2, s1, s2, m1, m2)"
   ]
  },
  {
   "cell_type": "code",
   "execution_count": 25,
   "id": "bf6bf333",
   "metadata": {},
   "outputs": [],
   "source": [
    "s1 = np.var(df_final[df_final.IS_ONTIME == True].n_users)\n",
    "s2 = np.var(df_final[(df_final.IS_ONTIME == False) ].n_users)\n",
    "m1 = df_final[df_final.IS_ONTIME == True].n_users.mean()\n",
    "m2 = df_final[(df_final.IS_ONTIME == False) ].n_users.mean()"
   ]
  },
  {
   "cell_type": "code",
   "execution_count": 26,
   "id": "802eeb9b",
   "metadata": {},
   "outputs": [
    {
     "name": "stdout",
     "output_type": "stream",
     "text": [
      "The difference is NOT significant\n"
     ]
    },
    {
     "data": {
      "text/plain": [
       "-0.6350895713499181"
      ]
     },
     "execution_count": 26,
     "metadata": {},
     "output_type": "execute_result"
    }
   ],
   "source": [
    "significance(n1, n2, s1, s2, m1, m2)"
   ]
  },
  {
   "cell_type": "code",
   "execution_count": 27,
   "id": "70c308c9",
   "metadata": {},
   "outputs": [],
   "source": [
    "df_final.reset_index(inplace=True)"
   ]
  },
  {
   "cell_type": "code",
   "execution_count": 28,
   "id": "b1fd0492",
   "metadata": {},
   "outputs": [],
   "source": [
    "df_final.columns = ['PROJECT_ID','EDED_TO_DEADLINE', 'IS_ONTIME', 'density', 'clustering', 'n_users']"
   ]
  },
  {
   "cell_type": "code",
   "execution_count": 29,
   "id": "f6bec09d",
   "metadata": {},
   "outputs": [],
   "source": [
    "csvs = os.path.abspath(os.path.join('..', 'csvs'))\n",
    "df_final[['PROJECT_ID','IS_ONTIME', 'density', 'clustering']].to_csv(os.path.join('project.csv'), index=False)"
   ]
  },
  {
   "cell_type": "code",
   "execution_count": 33,
   "id": "5768c53a",
   "metadata": {},
   "outputs": [
    {
     "data": {
      "text/plain": [
       "0.08568042740103862"
      ]
     },
     "execution_count": 33,
     "metadata": {},
     "output_type": "execute_result"
    }
   ],
   "source": [
    "ks_sample_test(df_final[df_final.IS_ONTIME == True].density, df_final[df_final.IS_ONTIME == False].density)"
   ]
  },
  {
   "cell_type": "code",
   "execution_count": 34,
   "id": "b709450c",
   "metadata": {},
   "outputs": [
    {
     "data": {
      "text/plain": [
       "0.08568042740103862"
      ]
     },
     "execution_count": 34,
     "metadata": {},
     "output_type": "execute_result"
    }
   ],
   "source": [
    "ks_sample_test(df_final[df_final.IS_ONTIME == True].clustering, df_final[df_final.IS_ONTIME == False].clustering)"
   ]
  },
  {
   "cell_type": "code",
   "execution_count": null,
   "id": "701d6910",
   "metadata": {},
   "outputs": [],
   "source": []
  }
 ],
 "metadata": {
  "jupytext": {
   "cell_metadata_filter": "-all",
   "main_language": "python",
   "notebook_metadata_filter": "-all"
  },
  "kernelspec": {
   "display_name": "thesis_env",
   "language": "python",
   "name": "python3"
  },
  "language_info": {
   "codemirror_mode": {
    "name": "ipython",
    "version": 3
   },
   "file_extension": ".py",
   "mimetype": "text/x-python",
   "name": "python",
   "nbconvert_exporter": "python",
   "pygments_lexer": "ipython3",
   "version": "3.9.15"
  }
 },
 "nbformat": 4,
 "nbformat_minor": 5
}
